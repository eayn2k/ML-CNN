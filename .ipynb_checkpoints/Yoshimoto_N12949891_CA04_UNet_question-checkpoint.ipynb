{
 "cells": [
  {
   "cell_type": "markdown",
   "metadata": {},
   "source": [
    "# U-net for image segmentation"
   ]
  },
  {
   "cell_type": "code",
   "execution_count": 1,
   "metadata": {},
   "outputs": [],
   "source": [
    "import torch\n",
    "import torch.nn as nn\n",
    "import torch.nn.functional as F\n",
    "import random\n",
    "import sys\n",
    "import os\n",
    "from optparse import OptionParser\n",
    "import numpy as np\n",
    "from torch import optim\n",
    "from PIL import Image\n",
    "from torch.autograd import Function, Variable\n",
    "import matplotlib.pyplot as plt\n",
    "from torchvision import transforms\n",
    "%matplotlib inline"
   ]
  },
  {
   "cell_type": "code",
   "execution_count": 2,
   "metadata": {},
   "outputs": [],
   "source": [
    "################################################ [TODO] ###################################################\n",
    "# DEFINE SINGLE_CONV CLASS\n",
    "class single_conv(nn.Module):\n",
    "    '''(conv => BN => ReLU)'''\n",
    "    def __init__(self, in_ch, out_ch):\n",
    "        super(single_conv, self).__init__()\n",
    "        self.conv = nn.Sequential(\n",
    "            nn.Conv2d(in_ch, out_ch, 3, padding=1),\n",
    "            nn.BatchNorm2d(out_ch),\n",
    "            nn.ReLU(inplace=True)\n",
    "        )\n",
    "\n",
    "    def forward(self, x):\n",
    "        x = self.conv(x)\n",
    "        return x\n",
    "\n",
    "################################################ [TODO] ###################################################\n",
    "# DEFINE DOWN CLASS\n",
    "class down(nn.Module):\n",
    "    def __init__(self, in_ch, out_ch):\n",
    "        super(down, self).__init__()\n",
    "        self.down = nn.MaxPool2d(3)            # use nn.MaxPool2d( )\n",
    "        self.conv = single_conv(in_ch, out_ch) # use previously defined single_cov\n",
    "    def forward(self, x):\n",
    "        x = self.down(x)\n",
    "        x = self.conv(x)\n",
    "        return x\n",
    "    \n",
    "################################################ [TODO] ###################################################\n",
    "# DEFINE UP CLASS\n",
    "# Note that this class will not only upsample x1, but also concatenate up-sampled x1 with x2 to generate the final output\n",
    "\n",
    "class up(nn.Module):\n",
    "    def __init__(self, in_ch, out_ch):\n",
    "        super(up, self).__init__()       \n",
    "        self.up = nn.Upsample(scale_factor=2, mode='nearest') # use nn.Upsample( )\n",
    "        self.conv = single_conv(in_ch, out_ch)                # use previously defined single_cov\n",
    "\n",
    "    def forward(self, x1, x2):\n",
    "        # This part is tricky, so we provide it for you\n",
    "        # First we upsample x1\n",
    "        x1 = self.up(x1)\n",
    "            \n",
    "        # Notice that x2 and x1 may not have the same spatial size. \n",
    "        # This is because when you downsample old_x2(say 25 by 25), you will get x1(12 by 12)   \n",
    "        # Then you perform upsample to x1, you will get new_x1(24 by 24)\n",
    "        # You should pad a new row and column so that new_x1 and x2 have the same size.\n",
    "        \n",
    "        diffY = x2.size()[2] - x1.size()[2]\n",
    "        diffX = x2.size()[3] - x1.size()[3]\n",
    "\n",
    "        x1 = F.pad(x1, (diffX // 2, diffX - diffX//2,\n",
    "                        diffY // 2, diffY - diffY//2))\n",
    "        \n",
    "        # Now we concatenat x2 channels with x1 channels\n",
    "        x = torch.cat([x2, x1], dim=1)\n",
    "        x = self.conv(x)\n",
    "        return x\n",
    "\n",
    "################################################ [TODO] ###################################################\n",
    "# DEFINE OUTCONV CLASS\n",
    "class outconv(nn.Module):\n",
    "    def __init__(self, in_ch, out_ch):\n",
    "        super(outconv, self).__init__()\n",
    "        self.conv = nn.Conv2d(in_ch, out_ch, 3, padding=1) # Use nn.Conv2D( ) since we do not need to do batch norm and relu at this layer\n",
    "\n",
    "    def forward(self, x):\n",
    "        x = self.conv(x)\n",
    "        return x"
   ]
  },
  {
   "cell_type": "code",
   "execution_count": 3,
   "metadata": {},
   "outputs": [],
   "source": [
    "################################################ [TODO] ###################################################\n",
    "# Build your network with predefined classes: single_conv, up, down, outconv\n",
    "# The number of input and output channels should follow the U-Net Structure shown above.\n",
    "import torch.nn.functional as F\n",
    "class UNet(nn.Module):\n",
    "    def __init__(self, n_channels, n_classes):\n",
    "        super(UNet, self).__init__()\n",
    "        self.inc = single_conv(n_channels, 16) # conv2d +  batchnorm + relu\n",
    "        self.down1 = down(16, 32)         # maxpool2d + conv2d + batchnorm + relu\n",
    "        self.down2 = down(32, 32)         # maxpool2d + conv2d + batchnorm + relu\n",
    "\n",
    "        self.up1 = up(64,16)              # upsample + pad + conv2d + batchnorm + relu\n",
    "        self.up2 = up(32,16)              # upsample + pad + conv2d + batchnorm + relu\n",
    "\n",
    "        self.outc = outconv(16, n_classes)# conv2d\n",
    "\n",
    "    def forward(self, x):\n",
    "        x1 = self.inc(x)\n",
    "        x2 = self.down1(x1)\n",
    "        x3 = self.down2(x2)\n",
    "\n",
    "        x = self.up1(x3, x2)\n",
    "        x = self.up2(x, x1)\n",
    "\n",
    "        x = self.outc(x)\n",
    "        return torch.sigmoid(x)\n",
    "    "
   ]
  },
  {
   "cell_type": "markdown",
   "metadata": {},
   "source": [
    "### ![dice.png](dice.png)"
   ]
  },
  {
   "cell_type": "code",
   "execution_count": 4,
   "metadata": {},
   "outputs": [],
   "source": [
    "################################################ [TODO] ###################################################\n",
    "# define dice coefficient \n",
    "class DiceCoeff(Function):\n",
    "    \"\"\"Dice coeff for one pair of input image and target image\"\"\"\n",
    "    def forward(self, input, target):\n",
    "        self.save_for_backward(input, target)\n",
    "        eps = 0.0001 # in case union = 0\n",
    "        ################################################ [TODO] ###################################################\n",
    "        # Calculate intersection and union. \n",
    "        # You can convert the input image into a vector with input.contiguous().view(-1)\n",
    "        # Then use torch.dot(A, B) to calculate the intersection.\n",
    "        # Use torch.sum(A) to get the sum.\n",
    "        self.inter = torch.dot(input.view(-1), target.view(-1))\n",
    "        self.union = torch.sum(input) + torch.sum(target) + eps\n",
    "        # Calculate DICE \n",
    "        d = 2*(self.inter.float() + eps) / self.union.float()\n",
    "        return d\n",
    "\n",
    "################################################ [TODO] ###################################################\n",
    "# Calculate dice coefficients for batches\n",
    "def dice_coeff(input, target):\n",
    "    \"\"\"Dice coeff for batches\"\"\"\n",
    "    s = torch.FloatTensor(1).zero_()\n",
    "    \n",
    "    # For each pair of input and target, call DiceCoeff().forward(input, target) to calculate dice coefficient\n",
    "    # Then average\n",
    "    for i, c in enumerate(zip(input, target)):\n",
    "        s = s + DiceCoeff().forward(c[0], c[1])  \n",
    "    s = s / (i + 1)\n",
    "    return s\n"
   ]
  },
  {
   "cell_type": "markdown",
   "metadata": {},
   "source": [
    "### Load images and masks"
   ]
  },
  {
   "cell_type": "code",
   "execution_count": 5,
   "metadata": {},
   "outputs": [],
   "source": [
    "from tqdm import tqdm\n",
    "from skimage import transform\n",
    "import pickle\n",
    "# try to split the whole train dataset into train and validation, and match the train image path with the \n",
    "# corresponding label path\n",
    "def split_train_val(image_paths, mask_paths, train_size):\n",
    "    img_paths_dic = {}\n",
    "    mask_paths_dic = {}\n",
    "    len_data = len(image_paths)\n",
    "    print('total len:', len_data)\n",
    "    for i in range(len(image_paths)):\n",
    "        img_paths_dic[os.path.basename(image_paths[i])[:-4]] = image_paths[i]\n",
    "\n",
    "    for i in range(len(mask_paths)):\n",
    "        mask_paths_dic[os.path.basename(mask_paths[i])[:-9]] = mask_paths[i]\n",
    "        \n",
    "    img_mask_list = []\n",
    "    for key in img_paths_dic:\n",
    "        img_mask_list.append((img_paths_dic[key], mask_paths_dic[key]))\n",
    "        \n",
    "    train_img_mask_paths = img_mask_list[:int(len_data*train_size)] \n",
    "    val_img_mask_paths = img_mask_list[int(len_data*train_size):]\n",
    "    return train_img_mask_paths, val_img_mask_paths\n",
    "\n",
    "# read in the image and label pair, and then resize them from 1280*1918 to 80*100 by consideration of \n",
    "# your computer memory limitation\n",
    "def preprocess_image(image_mask_paths):\n",
    "    img_mask_list = []\n",
    "    new_h, new_w = 80, 100\n",
    "    \n",
    "    for i in tqdm(range(len(image_mask_paths))):\n",
    "        img = np.array(Image.open(image_mask_paths[i][0]), np.float32) / 255.0 \n",
    "        mask = np.array(Image.open(image_mask_paths[i][1]), np.uint8)\n",
    "        \n",
    "        img_resize = transform.resize(img, (new_h, new_w), preserve_range=True, \n",
    "                                      mode='constant', anti_aliasing=True, anti_aliasing_sigma=None)\n",
    "        mask_resize = np.uint8(transform.resize(mask, (new_h, new_w), preserve_range=True), \n",
    "                               mode='constant', anti_aliasing=True, anti_aliasing_sigma=None)\n",
    "               \n",
    "        img_mask_list.append((img_resize, mask_resize))\n",
    "    return img_mask_list\n",
    "\n",
    "# save the data into pickle file and you can just reload this file, which can help you avoid reading the image\n",
    "# file again in the future, since reading in image file from hard drive would take quite a long time\n",
    "def pickle_store(file_name,save_data):\n",
    "    fileObj = open(file_name,'wb')\n",
    "    pickle.dump(save_data,fileObj)\n",
    "    fileObj.close()"
   ]
  },
  {
   "cell_type": "code",
   "execution_count": 6,
   "metadata": {},
   "outputs": [
    {
     "name": "stdout",
     "output_type": "stream",
     "text": [
      "original image shape: (1280, 1918, 3)\n",
      "orginal mask shape: (1280, 1918)\n",
      "total len: 5088\n",
      "train len: 4833, val len: 255\n"
     ]
    }
   ],
   "source": [
    "import glob\n",
    "# get all the image and mask path and number of images\n",
    "image_paths = glob.glob(\"data/train/*.jpg\")\n",
    "mask_paths = glob.glob(\"data/train_masks/*.gif\")\n",
    "\n",
    "# split these path using a certain percentage\n",
    "train_size = 0.95\n",
    "print('original image shape: {}'.format(np.array(Image.open(image_paths[0])).shape))\n",
    "print('orginal mask shape: {}'.format(np.array(Image.open(mask_paths[0])).shape))\n",
    "\n",
    "train_img_mask_paths, val_img_mask_paths = split_train_val(image_paths, mask_paths, train_size)\n",
    "\n",
    "print('train len: {}, val len: {}'.format(len(train_img_mask_paths),len(val_img_mask_paths)))"
   ]
  },
  {
   "cell_type": "code",
   "execution_count": 7,
   "metadata": {},
   "outputs": [
    {
     "name": "stdout",
     "output_type": "stream",
     "text": [
      "train len: 4833\n"
     ]
    }
   ],
   "source": [
    "train_img_masks_save_path = './data/train_img_masks.pickle'\n",
    "if os.path.exists(train_img_masks_save_path):\n",
    "    with open(train_img_masks_save_path,'rb') as f:\n",
    "        train_img_masks = pickle.load(f)\n",
    "    f.close()\n",
    "else:\n",
    "    train_img_masks = preprocess_image(train_img_mask_paths)\n",
    "    pickle_store(train_img_masks_save_path,train_img_masks)\n",
    "print('train len: {}'.format(len(train_img_masks)))"
   ]
  },
  {
   "cell_type": "code",
   "execution_count": 8,
   "metadata": {},
   "outputs": [
    {
     "name": "stdout",
     "output_type": "stream",
     "text": [
      "val len: 255\n"
     ]
    }
   ],
   "source": [
    "val_img_masks_save_path = './data/val_img_masks.pickle'\n",
    "if os.path.exists(val_img_masks_save_path):\n",
    "    with open(val_img_masks_save_path,'rb') as f:\n",
    "        val_img_masks = pickle.load(f)\n",
    "    f.close()\n",
    "else:\n",
    "    val_img_masks = preprocess_image(val_img_mask_paths)\n",
    "    pickle_store(val_img_masks_save_path,val_img_masks)\n",
    "print('val len: {}'.format(len(val_img_masks)))"
   ]
  },
  {
   "cell_type": "code",
   "execution_count": 9,
   "metadata": {},
   "outputs": [
    {
     "data": {
      "image/png": "[encoded data removed]",
      "text/plain": [
       "<Figure size 432x288 with 1 Axes>"
      ]
     },
     "metadata": {
      "needs_background": "light"
     },
     "output_type": "display_data"
    }
   ],
   "source": [
    "#### Let us display some of the images to make sure the data loading and processing is correct.\n",
    "### the original size of the image is: 1280*1918, but we resize the image to 80*100 for \n",
    "### training the segmentation network\n",
    "img_num = 5\n",
    "plt.imshow(train_img_masks[img_num][0])\n",
    "plt.title(\"sample image\")\n",
    "plt.show()"
   ]
  },
  {
   "cell_type": "code",
   "execution_count": 10,
   "metadata": {},
   "outputs": [
    {
     "data": {
      "image/png": "[encoded data removed]",
      "text/plain": [
       "<Figure size 432x288 with 1 Axes>"
      ]
     },
     "metadata": {
      "needs_background": "light"
     },
     "output_type": "display_data"
    }
   ],
   "source": [
    "plt.imshow(train_img_masks[img_num][1], cmap='gray')\n",
    "plt.title(\"ground true segmentation\")\n",
    "plt.show()"
   ]
  },
  {
   "cell_type": "markdown",
   "metadata": {},
   "source": [
    "### Create datasets in the format that you can later use Torch  \"DataLoader\" during training and define  data augmentation "
   ]
  },
  {
   "cell_type": "code",
   "execution_count": 11,
   "metadata": {},
   "outputs": [],
   "source": [
    "#### define transform classes for  data augmentation\n",
    "class Flip(object):\n",
    "    \"\"\"\n",
    "    Flip the image left or right for data augmentation, but prefer original image.\n",
    "    \"\"\"\n",
    "    def __init__(self,ori_probability=0.60):\n",
    "        self.ori_probability = ori_probability\n",
    " \n",
    "    def __call__(self, sample):\n",
    "        if random.uniform(0,1) < self.ori_probability:\n",
    "            return sample\n",
    "        else:\n",
    "            img, label = sample['img'], sample['label']\n",
    "            img_flip = img[:,:,::-1]\n",
    "            label_flip = label[:,::-1]\n",
    "            \n",
    "            return {'img': img_flip, 'label': label_flip}\n",
    "        \n",
    "class ToTensor(object):\n",
    "    \"\"\"\n",
    "    Convert ndarrays in sample to Tensors.\n",
    "    \"\"\"\n",
    "    def __init__(self):\n",
    "        pass\n",
    "\n",
    "    def __call__(self, sample):\n",
    "        image, label = sample['img'], sample['label']\n",
    "\n",
    "        return {'img': torch.from_numpy(image.copy()).type(torch.FloatTensor),\n",
    "                'label': torch.from_numpy(label.copy()).type(torch.FloatTensor)}"
   ]
  },
  {
   "cell_type": "code",
   "execution_count": 12,
   "metadata": {},
   "outputs": [
    {
     "name": "stdout",
     "output_type": "stream",
     "text": [
      "4833\n"
     ]
    }
   ],
   "source": [
    "from torch.utils.data.dataset import Dataset\n",
    "# the dataset class\n",
    "class CustomDataset(Dataset):\n",
    "    def __init__(self, image_masks, transforms=None):   # initial logic happens like transform\n",
    "\n",
    "        self.image_masks = image_masks\n",
    "        self.transforms = transforms\n",
    "    \n",
    "    def __len__(self):  # return count of sample we have\n",
    "\n",
    "        return len(self.image_masks)\n",
    "    \n",
    "    def __getitem__(self, index):\n",
    "        image = self.image_masks[index][0] # H, W, C\n",
    "        mask = self.image_masks[index][1]\n",
    "        image = np.transpose(image, axes=[2, 0, 1]) # C, H, W\n",
    "        \n",
    "        sample = {'img': image, 'label': mask}\n",
    "        \n",
    "        if transforms:\n",
    "            sample = self.transforms(sample)\n",
    "            \n",
    "        return sample\n",
    "print(len(train_img_masks))\n",
    "train_dataset = CustomDataset(train_img_masks, transforms=transforms.Compose([Flip(),ToTensor()]))\n",
    "val_dataset = CustomDataset(val_img_masks, transforms=transforms.Compose([Flip(),ToTensor()]))"
   ]
  },
  {
   "cell_type": "markdown",
   "metadata": {},
   "source": [
    "### [ TODO 3 ] Start training your network"
   ]
  },
  {
   "cell_type": "code",
   "execution_count": 13,
   "metadata": {},
   "outputs": [],
   "source": [
    "################################################ [TODO] ###################################################\n",
    "# This function is used to evaluate the network after each epoch of training\n",
    "# Input: network and validation dataset\n",
    "# Output: average dice_coeff\n",
    "def eval_net(net, dataset):\n",
    "    # set net mode to evaluation\n",
    "    net.eval()\n",
    "    tot = 0\n",
    "    for i, b in enumerate(dataset):\n",
    "        img = b['img'].to(device)\n",
    "        true_mask = b['label'].to(device)\n",
    "        ################################################ [TODO] ################################################### \n",
    "        # Feed in the image to get predicted mask\n",
    "        mask_pred = net(img)\n",
    "        # For all pixels in predicted mask, set them to 1 if larger than 0.5. Otherwise set them to 0\n",
    "        mask_pred = (mask_pred > 0.5).float()\n",
    "        # calculate dice_coeff()\n",
    "        # note that you should add all the dice_coeff in validation/testing dataset together \n",
    "        # call dice_coeff() here\n",
    "        tot += dice_coeff(mask_pred, true_mask).item()\n",
    "        # Return average dice_coeff()\n",
    "    return tot / (i + 1)"
   ]
  },
  {
   "cell_type": "code",
   "execution_count": 14,
   "metadata": {},
   "outputs": [
    {
     "name": "stdout",
     "output_type": "stream",
     "text": [
      "cuda:0\n"
     ]
    }
   ],
   "source": [
    "use_cuda = torch.cuda.is_available()\n",
    "device = torch.device(\"cuda:0\" if use_cuda else \"cpu\")\n",
    "print(device)\n",
    "################################################ [TODO] ###################################################\n",
    "# Create a UNET object. Input channels = 3, output channels = 1\n",
    "net = UNet(3, 1).to(device)"
   ]
  },
  {
   "cell_type": "code",
   "execution_count": 15,
   "metadata": {},
   "outputs": [
    {
     "name": "stdout",
     "output_type": "stream",
     "text": [
      "Starting epoch 1/20.\n",
      "tensor([[[0.9686, 0.9686, 0.9725,  ..., 0.9843, 0.9843, 0.9843],\n",
      "         [0.9686, 0.9686, 0.9765,  ..., 0.9843, 0.9843, 0.9843],\n",
      "         [0.9686, 0.9686, 0.9765,  ..., 0.9843, 0.9843, 0.9843],\n",
      "         ...,\n",
      "         [0.8392, 0.8392, 0.8392,  ..., 0.8510, 0.8471, 0.8471],\n",
      "         [0.8392, 0.8392, 0.8431,  ..., 0.8488, 0.8471, 0.8471],\n",
      "         [0.8392, 0.8392, 0.8392,  ..., 0.8510, 0.8510, 0.8490]],\n",
      "\n",
      "        [[0.9686, 0.9686, 0.9725,  ..., 0.9843, 0.9843, 0.9843],\n",
      "         [0.9686, 0.9686, 0.9765,  ..., 0.9843, 0.9843, 0.9843],\n",
      "         [0.9686, 0.9686, 0.9765,  ..., 0.9843, 0.9843, 0.9843],\n",
      "         ...,\n",
      "         [0.8549, 0.8549, 0.8549,  ..., 0.8510, 0.8471, 0.8471],\n",
      "         [0.8549, 0.8549, 0.8588,  ..., 0.8488, 0.8471, 0.8471],\n",
      "         [0.8549, 0.8549, 0.8549,  ..., 0.8510, 0.8510, 0.8490]],\n",
      "\n",
      "        [[0.9686, 0.9686, 0.9725,  ..., 0.9843, 0.9843, 0.9843],\n",
      "         [0.9686, 0.9686, 0.9765,  ..., 0.9843, 0.9843, 0.9843],\n",
      "         [0.9686, 0.9686, 0.9765,  ..., 0.9843, 0.9843, 0.9843],\n",
      "         ...,\n",
      "         [0.8510, 0.8510, 0.8510,  ..., 0.8510, 0.8471, 0.8471],\n",
      "         [0.8510, 0.8510, 0.8549,  ..., 0.8488, 0.8471, 0.8471],\n",
      "         [0.8510, 0.8510, 0.8510,  ..., 0.8510, 0.8510, 0.8490]]],\n",
      "       device='cuda:0')\n",
      "tensor([[0., 0., 0.,  ..., 0., 0., 0.],\n",
      "        [0., 0., 0.,  ..., 0., 0., 0.],\n",
      "        [0., 0., 0.,  ..., 0., 0., 0.],\n",
      "        ...,\n",
      "        [0., 0., 0.,  ..., 0., 0., 0.],\n",
      "        [0., 0., 0.,  ..., 0., 0., 0.],\n",
      "        [0., 0., 0.,  ..., 0., 0., 0.]], device='cuda:0')\n"
     ]
    },
    {
     "ename": "ZeroDivisionError",
     "evalue": "division by zero",
     "output_type": "error",
     "traceback": [
      "\u001b[0;31m---------------------------------------------------------------------------\u001b[0m",
      "\u001b[0;31mZeroDivisionError\u001b[0m                         Traceback (most recent call last)",
      "\u001b[0;32m<ipython-input-15-dee8ad0d74e3>\u001b[0m in \u001b[0;36m<module>\u001b[0;34m\u001b[0m\n\u001b[1;32m     71\u001b[0m         \u001b[0moptimizer\u001b[0m\u001b[0;34m.\u001b[0m\u001b[0mstep\u001b[0m\u001b[0;34m(\u001b[0m\u001b[0;34m)\u001b[0m\u001b[0;34m\u001b[0m\u001b[0;34m\u001b[0m\u001b[0m\n\u001b[1;32m     72\u001b[0m \u001b[0;34m\u001b[0m\u001b[0m\n\u001b[0;32m---> 73\u001b[0;31m     \u001b[0mprint\u001b[0m\u001b[0;34m(\u001b[0m\u001b[0;34m'Epoch finished ! Loss: {}'\u001b[0m\u001b[0;34m.\u001b[0m\u001b[0mformat\u001b[0m\u001b[0;34m(\u001b[0m\u001b[0mepoch_loss\u001b[0m \u001b[0;34m/\u001b[0m \u001b[0mi\u001b[0m\u001b[0;34m)\u001b[0m\u001b[0;34m)\u001b[0m\u001b[0;34m\u001b[0m\u001b[0;34m\u001b[0m\u001b[0m\n\u001b[0m\u001b[1;32m     74\u001b[0m     \u001b[0;31m################################################ [TODO] ###################################################\u001b[0m\u001b[0;34m\u001b[0m\u001b[0;34m\u001b[0m\u001b[0;34m\u001b[0m\u001b[0m\n\u001b[1;32m     75\u001b[0m     \u001b[0;31m# Perform validation with eval_net() on the validation data\u001b[0m\u001b[0;34m\u001b[0m\u001b[0;34m\u001b[0m\u001b[0;34m\u001b[0m\u001b[0m\n",
      "\u001b[0;31mZeroDivisionError\u001b[0m: division by zero"
     ]
    }
   ],
   "source": [
    "################################################ [TODO] ###################################################\n",
    "# Specify number of epochs, image scale factor, batch size and learning rate\n",
    "epochs = 20     # i.e, 4\n",
    "batch_size = 40 # i.e, 16\n",
    "lr = 0.005       # i.e, 0.01\n",
    "N_train = len(train_img_masks)\n",
    "model_save_path = './model/'  # directory to save the model after each epoch. \n",
    "\n",
    "################################################ [TODO] ###################################################\n",
    "# Define an optimizer for your model.\n",
    "# Pytorch has built-in package called optim. Most commonly used methods are already supported.\n",
    "# Here we use stochastic gradient descent to optimize\n",
    "# For usage of SGD, you can read https://pytorch.org/docs/stable/_modules/torch/optim/sgd.html\n",
    "# Also you can use ADAM as the optimizer\n",
    "# For usage of ADAM, you can read https://www.programcreek.com/python/example/92667/torch.optim.Adam\n",
    "\n",
    "#suggested parameter settings: momentum=0.9, weight_decay=0.0005\n",
    "optimizer = optim.SGD(net.parameters(), lr=lr, momentum=0.9, weight_decay=0.0005)\n",
    "\n",
    "#OR optimizer = optim.Adam(...)\n",
    "# optimizer = optim.Adam(net.parameters(), lr=lr)\n",
    "\n",
    "# The loss function we use is binary cross entropy: nn.BCELoss()\n",
    "criterion = nn.BCELoss()\n",
    "# note that although we want to use DICE for evaluation, we use BCELoss for training in this example\n",
    "\n",
    "loss_iter = np.zeros(epochs)\n",
    "dice_iter = np.zeros(epochs)\n",
    "################################################ [TODO] ###################################################\n",
    "# Start training\n",
    "for epoch in range(epochs):\n",
    "    print('Starting epoch {}/{}.'.format(epoch + 1, epochs))\n",
    "    net.train()\n",
    "    # Reload images and masks for training and validation and perform random shuffling at the begining of each epoch\n",
    "    train_loader = torch.utils.data.DataLoader(train_dataset, batch_size=batch_size, shuffle=True, num_workers=4)\n",
    "    val_loader = torch.utils.data.DataLoader(val_dataset, batch_size=batch_size, shuffle=True, num_workers=4)\n",
    "\n",
    "    epoch_loss = 0\n",
    "    \n",
    "    for i, b in enumerate(train_loader):\n",
    "        ################################################ [TODO] ###################################################\n",
    "        # Get images and masks from each batch\n",
    "        imgs = b['img'].to(device)\n",
    "        true_masks = b['label'].to(device)\n",
    "        print(imgs[i])\n",
    "        print(true_masks[i])\n",
    "        break\n",
    "        ################################################ [TODO] ###################################################\n",
    "        # Feed your images into the network\n",
    "        masks_pred = net(imgs)\n",
    "        # Flatten the predicted masks and true masks. For example, A_flat = A.view(-1)\n",
    "        masks_probs_flat = masks_pred.view(-1)\n",
    "        true_masks_flat = true_masks.view(-1)\n",
    "        ################################################ [TODO] ###################################################\n",
    "        # Calculate the loss by comparing the predicted masks vector and true masks vector\n",
    "        # And sum the losses together \n",
    "        loss = criterion(masks_probs_flat, true_masks_flat)\n",
    "        epoch_loss += loss.item()\n",
    "\n",
    "        # print('{0:.4f} --- loss: {1:.6f}'.format(i * batch_size / N_train, loss.item()))\n",
    "\n",
    "        # optimizer.zero_grad() clears x.grad for every parameter x in the optimizer. \n",
    "        # It’s important to call this before loss.backward(), otherwise you’ll accumulate the gradients from multiple passes.\n",
    "        optimizer.zero_grad()\n",
    "        # loss.backward() computes dloss/dx for every parameter x which has requires_grad=True. \n",
    "        # These are accumulated into x.grad for every parameter x\n",
    "        # x.grad += dloss/dx\n",
    "        loss.backward()\n",
    "        # optimizer.step updates the value of x using the gradient x.grad. \n",
    "        # x += -lr * x.grad\n",
    "        optimizer.step()\n",
    "\n",
    "    print('Epoch finished ! Loss: {}'.format(epoch_loss / i))\n",
    "    ################################################ [TODO] ###################################################\n",
    "    # Perform validation with eval_net() on the validation data\n",
    "    val_dice = eval_net(net, val_loader)\n",
    "    print('Validation Dice Coeff: {}'.format(val_dice))\n",
    "    # Save the model after each epoch\n",
    "    if os.path.isdir(model_save_path):\n",
    "        torch.save(net.state_dict(),model_save_path + 'Car_Seg_Epoch{}.pth'.format(epoch + 1))\n",
    "    else:\n",
    "        os.makedirs(model_save_path, exist_ok=True)\n",
    "        torch.save(net.state_dict(),model_save_path + 'Car_Seg_Epoch{}.pth'.format(epoch + 1))\n",
    "    print('Checkpoint {} saved !'.format(epoch + 1))\n",
    "    loss_iter[epoch] = epoch_loss/i\n",
    "    dice_iter[epoch] = val_dice"
   ]
  },
  {
   "cell_type": "markdown",
   "metadata": {},
   "source": [
    "### [ TODO 4 ] load one image from testing dataset and plot output mask"
   ]
  },
  {
   "cell_type": "code",
   "execution_count": 16,
   "metadata": {},
   "outputs": [],
   "source": [
    "################################################ [TODO] ###################################################\n",
    "# Define a function for prediction/testing\n",
    "def predict_img(net,full_img,out_threshold=0.5):\n",
    "    # set the mode of your network to evaluation\n",
    "    net.eval()\n",
    "    \n",
    "    # convert from Height*Width*Channel TO Channel*Height*Width\n",
    "    full_img = np.transpose(full_img, axes=[2, 0, 1]) # C, H, W\n",
    "    # convert numpy array to torch tensor \n",
    "    X_img = torch.from_numpy(full_img.copy()).type(torch.FloatTensor)\n",
    "    X_img = Variable(X_img)\n",
    "    X_img = X_img.unsqueeze(0)\n",
    "    X_img = X_img.to(device)\n",
    "    with torch.no_grad():\n",
    "        ################################################ [TODO] ###################################################\n",
    "        # predict the masks \n",
    "        output_img = net(X_img)\n",
    "        out_probs = output_img.squeeze(0)\n",
    "        # threshold the probability to generate mask: mask=1 if prob > out_threshold, set mask to uint8 \n",
    "        out_mask_np = (out_probs > out_threshold)\n",
    "        out_mask_np = out_mask_np.to('cpu')\n",
    "    # For all pixels in predicted mask, set them to 1 if larger than out_threshold. Otherwise set them to 0\n",
    "    return out_mask_np\n"
   ]
  },
  {
   "cell_type": "code",
   "execution_count": 17,
   "metadata": {},
   "outputs": [],
   "source": [
    "################################################ [TODO] ###################################################\n",
    "# Load an image from testing dataset\n",
    "image_paths = glob.glob(\"data/test/*.jpg\")\n",
    "test_img = np.array(Image.open(image_paths[0]))\n",
    "# Normalize to [0,1]\n",
    "test_img = test_img/255.0\n",
    "# Rescale the size of the image to 80*100\n",
    "new_h, new_w = 80, 100\n",
    "test_img = transform.resize(test_img, (new_h, new_w), preserve_range=True, \n",
    "                            mode='constant', anti_aliasing=True, anti_aliasing_sigma=None)\n",
    "################################################ [TODO] ###################################################\n",
    "# Predict the mask\n",
    "mask = predict_img(net,\n",
    "                    test_img,\n",
    "                    out_threshold=0.5)\n",
    "mask_full = mask[0]"
   ]
  },
  {
   "cell_type": "markdown",
   "metadata": {},
   "source": [
    "### Plot original image and mask image"
   ]
  },
  {
   "cell_type": "code",
   "execution_count": 29,
   "metadata": {},
   "outputs": [
    {
     "data": {
      "image/png": "[encoded data removed]",
      "text/plain": [
       "<Figure size 1440x720 with 2 Axes>"
      ]
     },
     "metadata": {
      "needs_background": "light"
     },
     "output_type": "display_data"
    },
    {
     "data": {
      "image/png": "[encoded data removed]",
      "text/plain": [
       "<Figure size 1152x432 with 2 Axes>"
      ]
     },
     "metadata": {
      "needs_background": "light"
     },
     "output_type": "display_data"
    }
   ],
   "source": [
    "# Plot original images and masks\n",
    "plt.figure(figsize=(20,10))\n",
    "plt.subplot(1,2,1)\n",
    "plt.imshow(test_img) \n",
    "plt.subplot(1,2,2)\n",
    "plt.imshow(mask_full, cmap='gray') \n",
    "plt.show()\n",
    "# plt.figure(figsize=(10,10))\n",
    "plt.figure(figsize=(16,6))\n",
    "plt.subplot(1,2,1)\n",
    "plt.plot(1+np.arange(epochs), loss_iter, label='BCE Loss') \n",
    "plt.xlabel('Iteration')\n",
    "plt.grid()\n",
    "plt.legend()\n",
    "plt.subplot(1,2,2)\n",
    "plt.plot(1+np.arange(epochs), dice_iter, label='Dice Coeff') \n",
    "plt.xlabel('Iteration')\n",
    "plt.grid()\n",
    "plt.legend()\n",
    "plt.show()"
   ]
  },
  {
   "cell_type": "markdown",
   "metadata": {},
   "source": [
    "Comments:\n",
    "- A U-net for image segmentation has been implemented.\n",
    "- The segmentation has an accuracy of 96% (Dice Coefficient)\n",
    "- The test image shows the shape of the car with a hole in it. It has been estimated from the learnt parameters entered to the U-net.\n",
    "- The segmentation is not perfect."
   ]
  },
  {
   "cell_type": "code",
   "execution_count": null,
   "metadata": {},
   "outputs": [],
   "source": []
  }
 ],
 "metadata": {
  "kernelspec": {
   "display_name": "Python 3",
   "language": "python",
   "name": "python3"
  },
  "language_info": {
   "codemirror_mode": {
    "name": "ipython",
    "version": 3
   },
   "file_extension": ".py",
   "mimetype": "text/x-python",
   "name": "python",
   "nbconvert_exporter": "python",
   "pygments_lexer": "ipython3",
   "version": "3.7.3"
  }
 },
 "nbformat": 4,
 "nbformat_minor": 2
}
